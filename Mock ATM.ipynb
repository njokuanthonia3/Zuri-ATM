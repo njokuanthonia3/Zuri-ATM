{
 "cells": [
  {
   "cell_type": "code",
   "execution_count": 1,
   "metadata": {},
   "outputs": [
    {
     "name": "stdout",
     "output_type": "stream",
     "text": [
      "Welcome to Zuri bank\n",
      "what is your name? \n",
      "Topaz\n",
      "What operation would you like to perform? \n",
      "\n",
      "1. Login \n",
      "2. Register\n",
      "1\n",
      "Name not found, please try again or register\n"
     ]
    }
   ],
   "source": [
    "# This function has a variable with\n",
    "# name same as s.\n",
    "import datetime\n",
    "x = datetime.datetime.now()\n",
    "\n",
    "\n",
    "# Global scope\n",
    "\n",
    "allowedUsers= [\"Seyi\", \"Mike\", \"Love\"]\n",
    "allowedPassword= [\"passwordSeyi\", \"passwordMike\", \"passwordLove\"]\n",
    "\n",
    "def login():\n",
    "    if(name in allowedUsers):\n",
    "        password = input(\"Your password: \\n\")\n",
    "        userId = allowedUsers.index(name)\n",
    "        if(password == allowedPassword[userId]):\n",
    "            print(x)\n",
    "            print(\"Welcome \\n\", name)\n",
    "            print(\"You are logged in. \\n these are the available options:\")\n",
    "            print(\"1. Withdrawal\")\n",
    "            print(\"2. Cash deposit\")\n",
    "            print(\"3. Complaint\")\n",
    "            selectedOptions = int(input(\"please select an option\"))\n",
    "            if(selectedOptions == 1):\n",
    "                amount = int(input(\"how much would you like to withdraw? \"))\n",
    "                print(\"take your cash\")\n",
    "            \n",
    "            elif(selectedOptions == 2):\n",
    "                Amount = int(input(\"how much would you like to deposit? \"))\n",
    "                print(\"Current balance is \", Amount )\n",
    "            \n",
    "            elif(selectedOptions == 3):\n",
    "                report = input(\"what issue will you like to report? \")\n",
    "                print(\"Thank you for contacting us \")\n",
    "        else:\n",
    "            print(\"password incorrect, please try again\")  \n",
    "    else:\n",
    "        print(\"Name not found, please try again or register\") \n",
    "        \n",
    "        \n",
    "def register():\n",
    "    phone_no = (input(\"Please input your 12 digit phone number: \"))\n",
    "    account_no = phone_no[:-1]\n",
    "    print(\"Welcome to Zuri bank. \\nThis is your account number: \", account_no)\n",
    "\n",
    "def bank_operations():\n",
    "    print(\"What operation would you like to perform? \\n\")\n",
    "    print(\"1. Login \\n2. Register\")\n",
    "    option = int(input())\n",
    "    if option == 1:\n",
    "        login()\n",
    "    elif option == 2:\n",
    "        register()\n",
    "    else:\n",
    "        print(\"invalid selection\")\n",
    "    \n",
    "print(\"Welcome to Zuri bank\")\n",
    "name = input(\"what is your name? \\n\")\n",
    "bank_operations()\n",
    "\n",
    "\n",
    "    \n",
    "    \n",
    "    \n",
    "    \n",
    "        "
   ]
  }
 ],
 "metadata": {
  "kernelspec": {
   "display_name": "Python 3",
   "language": "python",
   "name": "python3"
  },
  "language_info": {
   "codemirror_mode": {
    "name": "ipython",
    "version": 3
   },
   "file_extension": ".py",
   "mimetype": "text/x-python",
   "name": "python",
   "nbconvert_exporter": "python",
   "pygments_lexer": "ipython3",
   "version": "3.7.6"
  }
 },
 "nbformat": 4,
 "nbformat_minor": 4
}
